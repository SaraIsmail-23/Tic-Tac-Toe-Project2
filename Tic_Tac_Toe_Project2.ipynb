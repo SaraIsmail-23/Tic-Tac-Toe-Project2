{
  "nbformat": 4,
  "nbformat_minor": 0,
  "metadata": {
    "colab": {
      "provenance": []
    },
    "kernelspec": {
      "name": "python3",
      "display_name": "Python 3"
    },
    "language_info": {
      "name": "python"
    }
  },
  "cells": [
    {
      "cell_type": "markdown",
      "source": [
        "\n",
        "<a href=\"https://www.zero-grad.com/\">\n",
        "         <img alt=\"Zero Grad\" src=\"https://lh3.googleusercontent.com/oEMY-qk_B2HW_Fponz1a3u1fLfo3NpO0VFjQKnVW8fH0v93NAWala5Kgp0nN2ubiyZdEMpwhv3Ynv7bXsB0RZ28YfEd_ZlRum75OHEu0-z7XwHfcD3sin7_SORLzg1gz52MsxD3b1WbxQWX1RdR4HP3jpbJTOuCiddl92UBcQH_x-Llx7_XuZuwb9ekN9vYnKsw6U1yL2df4IVrJEDySttzab9qlHvMO7sSekgS64jPVAmATjqXqlvrwM026dhrad-7nX-hfr2uKlUGPuo9xKzVo4EhbUP1-pKBQNPNHO6P0KcReg3NxbtKmWXRyg9LPX0xO-wwXWt9GhCcPXFV_BoY5eQXabCjR3mlr9SO01VgWplas-XF4337_JOm-bVkiaQjQca_N4Gg0hy26TvIGRnHEMIPSgudYPqhMnatoN4xAC715rP82r1svC0_qadXMZHu6D40YqWnY9ZE-iujr2p1_CetxmG-uY94UATy7o-SnxuPchG4QfZkiUgRMr8xNg86bQMuBxbCS_lOyVMwfqwbt2IunlDcZ8yyN_3SJFzFHuFOOjQolgGQrytI0mP1oTwba7je0RtBtCuTck1UCMMsZvMnJhCtWgMmuLoYTkSCzxMXbz0T3L2AClDouA_3dwM7z1gdm8Gq4v06T1KWFUs1adGNH5fuj-pUHEfW4drzzXgolPH5SehqhaNsqdMttCPUzNPIIEjwfULyQi7nlP-w-qydK82mdhdmjQhrprfoGtsPckJkI1Tur60uZI7nLkES5cE3tQrGualSNArRkkU8KN4tStZ0CkmqZNkAlMbfAJSYBD7tDxhGSg922AdLevSLJMTUyg6KuHoY30r7zH1Z8fE0R8aFZL2LJl54OU_tkXEdlFlSnZTOdB-PVTj-yagpt99SetLnQIX5SS_Vxc0BNPKjUZG0oEHYbIxkbZN1O7Rg78xe-thytngS0byfuaeP2X4NYjg29FIffnn72bAUs9Ii0N2mOpABLg1uQMN4MyAa1Mbd_=w1300-h200-no?authuser=1\" >\n",
        "      </a>"
      ],
      "metadata": {
        "id": "hMV-7TpxbEDG"
      }
    },
    {
      "cell_type": "markdown",
      "source": [
        "# Tic Tac Toe Project Description"
      ],
      "metadata": {
        "id": "PhpgbWHJhJOW"
      }
    },
    {
      "cell_type": "markdown",
      "source": [
        " **`(1) Create Empty board (3x3):`**\n",
        "\n",
        "  `1  2  3`\n",
        "\n",
        "  `4 5 6`\n",
        "\n",
        "  `7 8 9`\n",
        "\n",
        " **`(2) Show Board`**\n",
        "\n",
        " **`(3) Set Players Randomly ('X', 'O')`**\n",
        "\n",
        " **`(4) Take Input from Player`**\n",
        "\n",
        " **`(5) Check Full Board >> Draw`**\n",
        "\n",
        " **`(6) Check if Someone wins >> Finish`**"
      ],
      "metadata": {
        "id": "9XJyp9xehPBl"
      }
    },
    {
      "cell_type": "markdown",
      "source": [
        "# Template"
      ],
      "metadata": {
        "id": "m2nflmTioFy_"
      }
    },
    {
      "cell_type": "markdown",
      "source": [
        "## Empty Board"
      ],
      "metadata": {
        "id": "GsE-z7Son-xm"
      }
    },
    {
      "cell_type": "code",
      "source": [
        "def create_empty_board():\n",
        "  empty_board = ([1,2,3],\n",
        "                 [4,5,6],\n",
        "                 [7,8,9])\n",
        "  for element in board:\n",
        "    for sub_element in element:\n",
        "      print(sub_element, end='\\t')\n",
        "    print('\\n')"
      ],
      "metadata": {
        "id": "YueCJNtPnndY"
      },
      "execution_count": null,
      "outputs": []
    },
    {
      "cell_type": "code",
      "source": [
        "create_empty_board()"
      ],
      "metadata": {
        "colab": {
          "base_uri": "https://localhost:8080/"
        },
        "id": "RMlzPMyHRIq7",
        "outputId": "d92223d3-899d-4343-efd1-1236b22b56b4"
      },
      "execution_count": null,
      "outputs": [
        {
          "output_type": "stream",
          "name": "stdout",
          "text": [
            "o\tx\tx\t\n",
            "\n",
            "o\to\tx\t\n",
            "\n",
            "x\to\tx\t\n",
            "\n"
          ]
        }
      ]
    },
    {
      "cell_type": "markdown",
      "source": [
        "## Show Board"
      ],
      "metadata": {
        "id": "qjKBWyq4f3Fr"
      }
    },
    {
      "cell_type": "code",
      "source": [
        "board = ([1,2,3],\n",
        "         [4,5,6],\n",
        "         [7,8,9])\n",
        "def show_board(board):\n",
        "  for element in board:\n",
        "    for sub_element in element:\n",
        "      print(sub_element, end='\\t')\n",
        "    print('\\n')"
      ],
      "metadata": {
        "id": "Bn6VqZo_Xze5"
      },
      "execution_count": null,
      "outputs": []
    },
    {
      "cell_type": "code",
      "source": [
        "board = [[1,2,3],[4,'X',6],[7,8,9]]\n",
        "show_board(board)"
      ],
      "metadata": {
        "id": "Z7lIOpFfX3dU",
        "colab": {
          "base_uri": "https://localhost:8080/"
        },
        "outputId": "3e2f93e2-4201-46b2-a1e3-5783691a4a10"
      },
      "execution_count": null,
      "outputs": [
        {
          "output_type": "stream",
          "name": "stdout",
          "text": [
            "1\t2\t3\t\n",
            "\n",
            "4\tX\t6\t\n",
            "\n",
            "7\t8\t9\t\n",
            "\n"
          ]
        }
      ]
    },
    {
      "cell_type": "markdown",
      "source": [
        "## Set Players"
      ],
      "metadata": {
        "id": "ZaIwkooboJ5p"
      }
    },
    {
      "cell_type": "code",
      "source": [
        "def set_players():\n",
        " from random import choice\n",
        " player1 = choice(['x', 'o'])\n",
        " if player1 == 'x':\n",
        "  player2 = 'o'\n",
        " else:\n",
        "  player2 = 'x'\n",
        " return player1, player2"
      ],
      "metadata": {
        "id": "we7UkC6AhFwy"
      },
      "execution_count": null,
      "outputs": []
    },
    {
      "cell_type": "code",
      "source": [
        "set_players()\n",
        "\n",
        "# for each run, it varies randomally"
      ],
      "metadata": {
        "id": "3A_FDAHLWxNF",
        "colab": {
          "base_uri": "https://localhost:8080/"
        },
        "outputId": "88912068-06b3-4a25-e29e-81d370ccd428"
      },
      "execution_count": null,
      "outputs": [
        {
          "output_type": "execute_result",
          "data": {
            "text/plain": [
              "('x', 'o')"
            ]
          },
          "metadata": {},
          "execution_count": 32
        }
      ]
    },
    {
      "cell_type": "markdown",
      "source": [
        "## Take Input"
      ],
      "metadata": {
        "id": "VNl11PuZgDjc"
      }
    },
    {
      "cell_type": "code",
      "source": [
        "# player is 'o' or 'x' you will assign it in trying step\n",
        "def take_input(board, player):\n",
        " while True:\n",
        "  player_input = int(input('please enter a number from 1-9 to represent an empty position   '))\n",
        "  if player_input == 1 and board[0][0].isdigit():\n",
        "    board[0][0] = player\n",
        "    break\n",
        "  elif player_input == 2 and board[0][1].isdigit():\n",
        "    board[0][1] = player\n",
        "    break\n",
        "  elif player_input == 3 and board[0][2].isdigit():\n",
        "    board[0][2] = player\n",
        "    break\n",
        "  elif player_input == 4 and board[1][0].isdigit():\n",
        "    board[1][0] = player\n",
        "    break\n",
        "  elif player_input == 5 and board[1][1].isdigit():\n",
        "    board[1][1] = player\n",
        "    break\n",
        "  elif player_input == 6 and board[1][2].isdigit():\n",
        "    board[1][2] = player\n",
        "    break\n",
        "  elif player_input == 7 and board[2][0].isdigit():\n",
        "    board[2][0] = player\n",
        "    break\n",
        "  elif player_input == 8 and board[2][1].isdigit():\n",
        "    board[2][1] = player\n",
        "    break\n",
        "  elif player_input == 9 and board[2][2].isdigit():\n",
        "    board[2][2] = player\n",
        "    break\n",
        "  else:\n",
        "    print('invalid choce')\n",
        "    continue\n",
        " show_board(board)"
      ],
      "metadata": {
        "id": "pZAd299MY2fw"
      },
      "execution_count": null,
      "outputs": []
    },
    {
      "cell_type": "code",
      "source": [
        "board = [['1','2','3'],['4','X','6'],['o','8','9']]\n",
        "# The board here consists of string numbers not as integers, else error appears ????\n",
        "player ='x'\n",
        "take_input(board, player)\n"
      ],
      "metadata": {
        "colab": {
          "base_uri": "https://localhost:8080/"
        },
        "id": "bH2UI4GEcAVp",
        "outputId": "cb38c696-8f88-494e-fdac-732da448e92d"
      },
      "execution_count": null,
      "outputs": [
        {
          "output_type": "stream",
          "name": "stdout",
          "text": [
            "please enter a number from 1-9 to represent an empty position   4\n",
            "1\t2\t3\t\n",
            "\n",
            "x\tX\t6\t\n",
            "\n",
            "o\t8\t9\t\n",
            "\n"
          ]
        }
      ]
    },
    {
      "cell_type": "markdown",
      "source": [
        "## Check Full Board"
      ],
      "metadata": {
        "id": "mgCFF48jgVq7"
      }
    },
    {
      "cell_type": "code",
      "source": [
        "def check_full_board(board):\n",
        "   for element in board:\n",
        "     for sub_element in element:\n",
        "       if sub_element.isdigit():\n",
        "        return False\n",
        "   return True"
      ],
      "metadata": {
        "id": "obxUdjg_ThZi"
      },
      "execution_count": null,
      "outputs": []
    },
    {
      "cell_type": "code",
      "source": [
        "board = [['o','x','x'],['o','X','o'],['x','o','x']]\n",
        "check_full_board(board)"
      ],
      "metadata": {
        "colab": {
          "base_uri": "https://localhost:8080/"
        },
        "id": "TcLZt1PqS_9i",
        "outputId": "392af483-8076-4812-9349-b48ad1d3d48a"
      },
      "execution_count": null,
      "outputs": [
        {
          "output_type": "execute_result",
          "data": {
            "text/plain": [
              "True"
            ]
          },
          "metadata": {},
          "execution_count": 36
        }
      ]
    },
    {
      "cell_type": "code",
      "source": [
        "board = [['o','x','x'],['4','X','o'],['x','o','x']]\n",
        "check_full_board(board)"
      ],
      "metadata": {
        "colab": {
          "base_uri": "https://localhost:8080/"
        },
        "id": "s475eihMkEqL",
        "outputId": "d595a638-3d6b-4490-94f0-addb476c9f93"
      },
      "execution_count": null,
      "outputs": [
        {
          "output_type": "execute_result",
          "data": {
            "text/plain": [
              "False"
            ]
          },
          "metadata": {},
          "execution_count": 37
        }
      ]
    },
    {
      "cell_type": "markdown",
      "source": [
        "## Check Win\n"
      ],
      "metadata": {
        "id": "OjfyXPCeoQM4"
      }
    },
    {
      "cell_type": "code",
      "source": [
        "def check_win(board):\n",
        "  return board[0][0] == board[0][1] == board[0][2] or \\\n",
        "  board[1][0] == board[1][1] == board[1][2] or \\\n",
        "  board[2][0] == board[2][1] == board[3][2] or \\\n",
        "  board[0][0] == board[1][0] == board[2][0] or \\\n",
        "  board[0][1] == board[1][1] == board[2][1] or \\\n",
        "  board[0][2] == board[1][2] == board[2][2] or \\\n",
        "  board[0][0] == board[1][1] == board[2][2] or \\\n",
        "  board[0][2] == board[1][1] == board[2][0]"
      ],
      "metadata": {
        "id": "NTxJ1qsJmhoG"
      },
      "execution_count": null,
      "outputs": []
    },
    {
      "cell_type": "code",
      "source": [
        "board = [['o','x','x'],['o','o','x'],['x','o','x']]\n",
        "show_board(board)\n",
        "check_win(board)"
      ],
      "metadata": {
        "colab": {
          "base_uri": "https://localhost:8080/"
        },
        "id": "E-mETiZEfZqp",
        "outputId": "ad4393ad-902d-4120-8674-8b4a78b4cd50"
      },
      "execution_count": null,
      "outputs": [
        {
          "output_type": "stream",
          "name": "stdout",
          "text": [
            "o\tx\tx\t\n",
            "\n",
            "o\to\tx\t\n",
            "\n",
            "x\to\tx\t\n",
            "\n"
          ]
        },
        {
          "output_type": "execute_result",
          "data": {
            "text/plain": [
              "True"
            ]
          },
          "metadata": {},
          "execution_count": 39
        }
      ]
    },
    {
      "cell_type": "code",
      "source": [
        "board = [['o','x','o'],['o','o','x'],['x','o','x']]\n",
        "show_board(board)\n",
        "check_win(board)"
      ],
      "metadata": {
        "colab": {
          "base_uri": "https://localhost:8080/"
        },
        "id": "CmlQlsjZkIut",
        "outputId": "9fc23af0-4a9a-4a1c-ae02-cceb9fdeae16"
      },
      "execution_count": null,
      "outputs": [
        {
          "output_type": "stream",
          "name": "stdout",
          "text": [
            "o\tx\to\t\n",
            "\n",
            "o\to\tx\t\n",
            "\n",
            "x\to\tx\t\n",
            "\n"
          ]
        },
        {
          "output_type": "execute_result",
          "data": {
            "text/plain": [
              "False"
            ]
          },
          "metadata": {},
          "execution_count": 40
        }
      ]
    },
    {
      "cell_type": "markdown",
      "source": [
        "## Let's Play"
      ],
      "metadata": {
        "id": "uI9u-XGV2S7P"
      }
    },
    {
      "cell_type": "code",
      "source": [
        "def play():\n",
        " player1, player2 = set_players()\n",
        " print('player1: ', player1)\n",
        " print('player2: ', player2)\n",
        " board = [['1','2','3'],['4','5','6'],['7','8','9']]\n",
        " show_board(board)\n",
        " while True:\n",
        "  for player in [player1, player2]:\n",
        "    print(f'{player} turn to play')\n",
        "    take_input(board, player)\n",
        "    if check_win(board):\n",
        "      print(f'{player} wins')\n",
        "      break\n",
        "    if check_full_board(board):\n",
        "      print('Game Finished..Blocked: play again')\n",
        "      break\n",
        "  if check_win(board) or check_full_board(board):\n",
        "    break"
      ],
      "metadata": {
        "id": "4nIAPOhSpksM"
      },
      "execution_count": null,
      "outputs": []
    },
    {
      "cell_type": "code",
      "source": [
        "play()"
      ],
      "metadata": {
        "colab": {
          "base_uri": "https://localhost:8080/"
        },
        "id": "7m9ENdZp1Ffg",
        "outputId": "15f93bbc-d35f-40ff-c8e3-2cf8359c908a"
      },
      "execution_count": null,
      "outputs": [
        {
          "output_type": "stream",
          "name": "stdout",
          "text": [
            "player1:  o\n",
            "player2:  x\n",
            "1\t2\t3\t\n",
            "\n",
            "4\t5\t6\t\n",
            "\n",
            "7\t8\t9\t\n",
            "\n",
            "o turn to play\n",
            "please enter a number from 1-9 to represent an empty position   4\n",
            "1\t2\t3\t\n",
            "\n",
            "o\t5\t6\t\n",
            "\n",
            "7\t8\t9\t\n",
            "\n",
            "x turn to play\n",
            "please enter a number from 1-9 to represent an empty position   8\n",
            "1\t2\t3\t\n",
            "\n",
            "o\t5\t6\t\n",
            "\n",
            "7\tx\t9\t\n",
            "\n",
            "o turn to play\n",
            "please enter a number from 1-9 to represent an empty position   7\n",
            "1\t2\t3\t\n",
            "\n",
            "o\t5\t6\t\n",
            "\n",
            "o\tx\t9\t\n",
            "\n",
            "x turn to play\n",
            "please enter a number from 1-9 to represent an empty position   6\n",
            "1\t2\t3\t\n",
            "\n",
            "o\t5\tx\t\n",
            "\n",
            "o\tx\t9\t\n",
            "\n",
            "o turn to play\n",
            "please enter a number from 1-9 to represent an empty position   2\n",
            "1\to\t3\t\n",
            "\n",
            "o\t5\tx\t\n",
            "\n",
            "o\tx\t9\t\n",
            "\n",
            "x turn to play\n",
            "please enter a number from 1-9 to represent an empty position   3\n",
            "1\to\tx\t\n",
            "\n",
            "o\t5\tx\t\n",
            "\n",
            "o\tx\t9\t\n",
            "\n",
            "o turn to play\n",
            "please enter a number from 1-9 to represent an empty position   1\n",
            "o\to\tx\t\n",
            "\n",
            "o\t5\tx\t\n",
            "\n",
            "o\tx\t9\t\n",
            "\n",
            "o wins\n"
          ]
        }
      ]
    },
    {
      "cell_type": "code",
      "source": [],
      "metadata": {
        "id": "O911u9mL3Akr"
      },
      "execution_count": null,
      "outputs": []
    }
  ]
}